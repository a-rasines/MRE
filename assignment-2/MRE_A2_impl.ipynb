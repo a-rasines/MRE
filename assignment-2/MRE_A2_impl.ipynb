{
 "cells": [
  {
   "cell_type": "markdown",
   "metadata": {},
   "source": [
    "### Copyright-protected material, all rights reserved. (c) University of Vienna.\n",
    "_Copyright Notice of the corresponding course at Moodle applies. <br> Only to be used in the MRE course._"
   ]
  },
  {
   "cell_type": "markdown",
   "metadata": {},
   "source": [
    "# MRE Assignment 2 - Digital Audio Processing \n",
    "\n",
    "In this assignment you will load, decode, and process digital audio files (e.g., MP3, WAV) using Python. For the following tasks, you will use our suggested libraries (see the setup section). For both audio formats you will extract and process content and some basic metadata. For the following tasks, you will use our suggested libraries (see the setup section). \n",
    "\n",
    "In this notebook, you will implement your solution. This notebook will be imported into the \"*_def.ipynb\" notebook.\n",
    "\n",
    "Of course you can include code for testing your implementation in this implementation notebook, but code for testing and output generated for testing is not going to be assessed.\n",
    "\n",
    "Of course, your code for the solutions in this notebook will be inspected and is subject to grading."
   ]
  },
  {
   "cell_type": "markdown",
   "metadata": {},
   "source": [
    "## Setup\n",
    "\n",
    "For general installation instructions, please refer to the ressources given for all the assignments in Moodle.\n",
    "\n",
    "If the cell below executes without error, you can start the assignment!"
   ]
  },
  {
   "cell_type": "code",
   "execution_count": 2,
   "metadata": {},
   "outputs": [],
   "source": [
    "# -------- Imports --------\n",
    "# Please do not change the contents of this cell!\n",
    "\n",
    "# Imports required by us.\n",
    "from enum import Enum\n",
    "import mutagen      # mutagen\n",
    "from mutagen.mp3 import MP3\n",
    "from mutagen.id3 import ID3\n",
    "from mutagen.easyid3 import EasyID3\n",
    "import wave         # python's built-in wave library\n",
    "import pandas as pd # pandas\n",
    "import ffmpeg       # ffmpeg-python wrapper (requires ffmpeg.exe in your system path!)\n",
    "import subprocess   # for calling local executables such as ffmpeg.exe\n"
   ]
  },
  {
   "cell_type": "markdown",
   "metadata": {},
   "source": [
    "In the cells below, place your own imports, global variables, (helper) functions and classes. Feel free to add cells here as you see fit."
   ]
  },
  {
   "cell_type": "code",
   "execution_count": 3,
   "metadata": {},
   "outputs": [],
   "source": [
    "# Please place your own imports here.\n",
    "from mutagen import File\n",
    "import os\n",
    "from enum import Enum\n",
    "import math"
   ]
  },
  {
   "cell_type": "code",
   "execution_count": null,
   "metadata": {},
   "outputs": [],
   "source": [
    "# Place any helper functions, global variables and classes here."
   ]
  },
  {
   "cell_type": "markdown",
   "metadata": {},
   "source": [
    "## Task 2.1 Organize Audio files by specific criteria (35P):"
   ]
  },
  {
   "cell_type": "code",
   "execution_count": 3,
   "metadata": {},
   "outputs": [],
   "source": [
    "# Write your function here.\n",
    "\n",
    "#All the fields, both for sorting and getting the data\n",
    "class Criteria(Enum):\n",
    "    \n",
    "    FILENAME = (\"filename\")\n",
    "    FORMAT = (\"format\")\n",
    "    ENCODER = (\"tags\", \"TENC\")\n",
    "    DURATION = (\"info\", \"length\")\n",
    "    ARTIST = (\"tags\", 'TPE1')\n",
    "    TITLE = (\"tags\", \"TIT2\")\n",
    "    DATE = (\"tags\", \"TDRC\")\n",
    "    ALBUM = (\"tags\", 'TALB')\n",
    "    TRACK = (\"tags\", \"TRCK\")\n",
    "    COMPOSER = (\"tags\", \"TCOM\")\n",
    "    GENRE = (\"tags\", 'TCON')\n",
    "    SAMPLE_RATE = (\"info\", \"sample_rate\")\n",
    "    BITRATE = (\"info\", \"bitrate\")\n",
    "    CHANNELS = (\"info\", \"channels\")\n",
    "\n",
    "    #Get the value of the field for the input file\n",
    "    def get(self, file):\n",
    "        try:\n",
    "            if self.value[0] == \"tags\": \n",
    "                return File(file).tags[self.value[1]].text[0]\n",
    "            elif self.value == \"filename\":\n",
    "                return file.split(\"/\")[-1]\n",
    "            elif self.value == \"format\":\n",
    "                return type(File(file)).__name__\n",
    "            elif self.value[0] == \"info\":\n",
    "                return getattr(File(file).info, self.value[1])\n",
    "        except Exception as e: \n",
    "            return \"Unknown\"\n",
    "            \n",
    "    #Generates a pandas dataframe usign all the fields for the input file.\n",
    "    @classmethod\n",
    "    def generatePandas(_, file: str, index: int = 0):\n",
    "        data = {}\n",
    "        for x in Criteria:\n",
    "            data[x.name.lower()] = x.get(file)\n",
    "        return pd.DataFrame(data=data, index=[index])\n",
    "        \n",
    "    \n",
    "# Auto-plays an audio file and also embeds an IPython audio display. <- This comment describes a completly different function\n",
    "def MyAudioFilesOrganizer(inputDir: str, grouping: Criteria) -> pd.DataFrame:\n",
    "    \n",
    "    files = {}\n",
    "    for file in os.listdir(inputDir): files[file] = grouping.get(inputDir+file)\n",
    "    \n",
    "    files = sorted(files.items(), key=lambda x:x[1])\n",
    "\n",
    "    return pd.concat([Criteria.generatePandas(inputDir+file[0], i) for i, file in enumerate(files)])\n",
    "    "
   ]
  },
  {
   "cell_type": "code",
   "execution_count": 6,
   "metadata": {},
   "outputs": [],
   "source": [
    "# Test your function here.\n",
    "#MyAudioFilesOrganizer(\"media/audio/\", Criteria.DURATION)"
   ]
  },
  {
   "cell_type": "markdown",
   "metadata": {},
   "source": [
    "## Task 2.2 Audio mixer (25P):"
   ]
  },
  {
   "cell_type": "code",
   "execution_count": 55,
   "metadata": {},
   "outputs": [],
   "source": [
    "# Write your function here.\n",
    "\n",
    "# Merges two audio files using FFMPEG.\n",
    "def TwoAudioMixer(audioFile1: str, a1From: int, a1To: int, \n",
    "                  audioFile2: str, a2From: int, a2To: int, overlapDur: float, \n",
    "                  outputDir: str, outFilename: str) -> None:\n",
    "    \n",
    "    #               LOAD   FILE       START POINT                        CUT DURATION\n",
    "    audio1 = ffmpeg.input(audioFile1, ss=a1From).filter('atrim', duration=a1To - a1From)\n",
    "    \n",
    "    #               LOAD   FILE       START POINT                        CUT DURATION            DELAY    DELAY PER CHANNEL (I CAN'T FIGURE OUT HOW TO DO IT TO ALL CHANNELS AT ONCE)\n",
    "    audio2 = ffmpeg.input(audioFile2, ss=a2From).filter('atrim', duration=a2To - a2From).filter('adelay', \"|\".join([str(math.floor(((a1To - a1From) - overlapDur)*1000)) for i in range(ffmpeg.probe(audioFile1)[\"streams\"][0][\"channels\"])]))\n",
    "    \n",
    "    #                    JOIN TRACKS                     OUTPUT DIRECTORY             MAKE THE FFMPEG CALLS\n",
    "    ffmpeg.filter([audio1, audio2], 'amix').output(outputDir + \"/\" + outFilename).run(overwrite_output=True)"
   ]
  },
  {
   "cell_type": "code",
   "execution_count": 63,
   "metadata": {},
   "outputs": [],
   "source": [
    "# Test your function here.\n",
    "#TwoAudioMixer(\"media/audio/Huntza Lasai Lasai.mp3\", 30, 70, \"media/audio/Musikaren Doinua - ETS.mp3\", 0, 120, 5, \"media/audio\", \"mixed.mp3\")"
   ]
  },
  {
   "cell_type": "markdown",
   "metadata": {},
   "source": [
    "## Task 2.3 Concealing speakers ID by lowering/increasing the audio pitch (20P):"
   ]
  },
  {
   "cell_type": "code",
   "execution_count": 95,
   "metadata": {},
   "outputs": [],
   "source": [
    "# Write your function here.\n",
    "\n",
    "# Changes the pitch of an audio file using FFMPEG.\n",
    "def VoicePitchChanger(audioFile: str, shift: float, outputDir: str, outFilename: str) -> None:\n",
    "    realShift = 2**(shift/12) #From ChatGPT, 12 are the semitones per octave, each semitone doubles / halves the pitch of the previous.\n",
    "    originalRate = int(ffmpeg.probe(audioFile)['streams'][0]['sample_rate'])\n",
    "    output = outputDir + \"/\" + outFilename\n",
    "    ffmpeg.input(audioFile)\\\n",
    "    .filter(\"asetrate\", originalRate * realShift)\\\n",
    "    .filter(\"atempo\", 1/realShift)\\\n",
    "    .output(output)\\\n",
    "    .run(overwrite_output=True)"
   ]
  },
  {
   "cell_type": "code",
   "execution_count": 96,
   "metadata": {},
   "outputs": [
    {
     "name": "stdout",
     "output_type": "stream",
     "text": [
      "{'index': 0, 'codec_name': 'mp3', 'codec_long_name': 'MP3 (MPEG audio layer 3)', 'codec_type': 'audio', 'codec_tag_string': '[0][0][0][0]', 'codec_tag': '0x0000', 'sample_fmt': 'fltp', 'sample_rate': '44100', 'channels': 2, 'channel_layout': 'stereo', 'bits_per_sample': 0, 'initial_padding': 0, 'r_frame_rate': '0/0', 'avg_frame_rate': '0/0', 'time_base': '1/14112000', 'start_pts': 0, 'start_time': '0.000000', 'duration_ts': 3622993517, 'duration': '256.731400', 'bit_rate': '160000', 'disposition': {'default': 0, 'dub': 0, 'original': 0, 'comment': 0, 'lyrics': 0, 'karaoke': 0, 'forced': 0, 'hearing_impaired': 0, 'visual_impaired': 0, 'clean_effects': 0, 'attached_pic': 0, 'timed_thumbnails': 0, 'non_diegetic': 0, 'captions': 0, 'descriptions': 0, 'metadata': 0, 'dependent': 0, 'still_image': 0}}\n",
      "{'index': 0, 'codec_name': 'mp3', 'codec_long_name': 'MP3 (MPEG audio layer 3)', 'codec_type': 'audio', 'codec_tag_string': '[0][0][0][0]', 'codec_tag': '0x0000', 'sample_fmt': 'fltp', 'sample_rate': '32000', 'channels': 2, 'channel_layout': 'stereo', 'bits_per_sample': 0, 'initial_padding': 0, 'r_frame_rate': '0/0', 'avg_frame_rate': '0/0', 'time_base': '1/14112000', 'start_pts': 487305, 'start_time': '0.034531', 'duration_ts': 3623284224, 'duration': '256.752000', 'bit_rate': '96000', 'disposition': {'default': 0, 'dub': 0, 'original': 0, 'comment': 0, 'lyrics': 0, 'karaoke': 0, 'forced': 0, 'hearing_impaired': 0, 'visual_impaired': 0, 'clean_effects': 0, 'attached_pic': 0, 'timed_thumbnails': 0, 'non_diegetic': 0, 'captions': 0, 'descriptions': 0, 'metadata': 0, 'dependent': 0, 'still_image': 0}, 'tags': {'encoder': 'Lavc60.31'}}\n",
      "{'index': 0, 'codec_name': 'mp3', 'codec_long_name': 'MP3 (MPEG audio layer 3)', 'codec_type': 'audio', 'codec_tag_string': '[0][0][0][0]', 'codec_tag': '0x0000', 'sample_fmt': 'fltp', 'sample_rate': '44100', 'channels': 2, 'channel_layout': 'stereo', 'bits_per_sample': 0, 'initial_padding': 0, 'r_frame_rate': '0/0', 'avg_frame_rate': '0/0', 'time_base': '1/14112000', 'start_pts': 0, 'start_time': '0.000000', 'duration_ts': 3622993517, 'duration': '256.731400', 'bit_rate': '160000', 'disposition': {'default': 0, 'dub': 0, 'original': 0, 'comment': 0, 'lyrics': 0, 'karaoke': 0, 'forced': 0, 'hearing_impaired': 0, 'visual_impaired': 0, 'clean_effects': 0, 'attached_pic': 0, 'timed_thumbnails': 0, 'non_diegetic': 0, 'captions': 0, 'descriptions': 0, 'metadata': 0, 'dependent': 0, 'still_image': 0}}\n",
      "{'index': 0, 'codec_name': 'mp3', 'codec_long_name': 'MP3 (MPEG audio layer 3)', 'codec_type': 'audio', 'codec_tag_string': '[0][0][0][0]', 'codec_tag': '0x0000', 'sample_fmt': 'fltp', 'sample_rate': '48000', 'channels': 2, 'channel_layout': 'stereo', 'bits_per_sample': 0, 'initial_padding': 0, 'r_frame_rate': '0/0', 'avg_frame_rate': '0/0', 'time_base': '1/14112000', 'start_pts': 324870, 'start_time': '0.023021', 'duration_ts': 3622606848, 'duration': '256.704000', 'bit_rate': '128000', 'disposition': {'default': 0, 'dub': 0, 'original': 0, 'comment': 0, 'lyrics': 0, 'karaoke': 0, 'forced': 0, 'hearing_impaired': 0, 'visual_impaired': 0, 'clean_effects': 0, 'attached_pic': 0, 'timed_thumbnails': 0, 'non_diegetic': 0, 'captions': 0, 'descriptions': 0, 'metadata': 0, 'dependent': 0, 'still_image': 0}, 'tags': {'encoder': 'Lavc60.31'}}\n",
      "{'index': 0, 'codec_name': 'mp3', 'codec_long_name': 'MP3 (MPEG audio layer 3)', 'codec_type': 'audio', 'codec_tag_string': '[0][0][0][0]', 'codec_tag': '0x0000', 'sample_fmt': 'fltp', 'sample_rate': '44100', 'channels': 2, 'channel_layout': 'stereo', 'bits_per_sample': 0, 'initial_padding': 0, 'r_frame_rate': '0/0', 'avg_frame_rate': '0/0', 'time_base': '1/14112000', 'start_pts': 0, 'start_time': '0.000000', 'duration_ts': 3622993517, 'duration': '256.731400', 'bit_rate': '160000', 'disposition': {'default': 0, 'dub': 0, 'original': 0, 'comment': 0, 'lyrics': 0, 'karaoke': 0, 'forced': 0, 'hearing_impaired': 0, 'visual_impaired': 0, 'clean_effects': 0, 'attached_pic': 0, 'timed_thumbnails': 0, 'non_diegetic': 0, 'captions': 0, 'descriptions': 0, 'metadata': 0, 'dependent': 0, 'still_image': 0}}\n",
      "{'index': 0, 'codec_name': 'mp3', 'codec_long_name': 'MP3 (MPEG audio layer 3)', 'codec_type': 'audio', 'codec_tag_string': '[0][0][0][0]', 'codec_tag': '0x0000', 'sample_fmt': 'fltp', 'sample_rate': '48000', 'channels': 2, 'channel_layout': 'stereo', 'bits_per_sample': 0, 'initial_padding': 0, 'r_frame_rate': '0/0', 'avg_frame_rate': '0/0', 'time_base': '1/14112000', 'start_pts': 324870, 'start_time': '0.023021', 'duration_ts': 3621929472, 'duration': '256.656000', 'bit_rate': '128000', 'disposition': {'default': 0, 'dub': 0, 'original': 0, 'comment': 0, 'lyrics': 0, 'karaoke': 0, 'forced': 0, 'hearing_impaired': 0, 'visual_impaired': 0, 'clean_effects': 0, 'attached_pic': 0, 'timed_thumbnails': 0, 'non_diegetic': 0, 'captions': 0, 'descriptions': 0, 'metadata': 0, 'dependent': 0, 'still_image': 0}, 'tags': {'encoder': 'Lavc60.31'}}\n",
      "{'index': 0, 'codec_name': 'mp3', 'codec_long_name': 'MP3 (MPEG audio layer 3)', 'codec_type': 'audio', 'codec_tag_string': '[0][0][0][0]', 'codec_tag': '0x0000', 'sample_fmt': 'fltp', 'sample_rate': '48000', 'channels': 2, 'channel_layout': 'stereo', 'bits_per_sample': 0, 'initial_padding': 0, 'r_frame_rate': '0/0', 'avg_frame_rate': '0/0', 'time_base': '1/14112000', 'start_pts': 324870, 'start_time': '0.023021', 'duration_ts': 3622606848, 'duration': '256.704000', 'bit_rate': '128000', 'disposition': {'default': 0, 'dub': 0, 'original': 0, 'comment': 0, 'lyrics': 0, 'karaoke': 0, 'forced': 0, 'hearing_impaired': 0, 'visual_impaired': 0, 'clean_effects': 0, 'attached_pic': 0, 'timed_thumbnails': 0, 'non_diegetic': 0, 'captions': 0, 'descriptions': 0, 'metadata': 0, 'dependent': 0, 'still_image': 0}, 'tags': {'encoder': 'Lavc60.31'}}\n"
     ]
    }
   ],
   "source": [
    "# Test your function here.\n",
    "\"\"\" factor = 5\n",
    "audio = \"Amazon.mp3\"\n",
    "ffmpeg.input(\"media/audio/\"+audio)\\\n",
    "    .output(\"media/audio/generated/0original.mp3\")\\\n",
    "    .run(overwrite_output=True)\n",
    "VoicePitchChanger(\"media/audio/\"+audio, -factor, \"media/audio/generated\", \"1low.mp3\")\n",
    "VoicePitchChanger(\"media/audio/generated/1low.mp3\", factor, \"media/audio/generated\", \"2low_restored.mp3\")\n",
    "VoicePitchChanger(\"media/audio/\"+audio, factor, \"media/audio/generated\", \"3high.mp3\")\n",
    "VoicePitchChanger(\"media/audio/generated/3high.mp3\", factor, \"media/audio/generated\", \"4higher.mp3\")\n",
    "VoicePitchChanger(\"media/audio/\"+audio, factor*2, \"media/audio/generated\", \"5high2.mp3\")\n",
    "VoicePitchChanger(\"media/audio/generated/4higher.mp3\", factor, \"media/audio/generated\", \"6highest.mp3\")\n",
    "VoicePitchChanger(\"media/audio/generated/3high.mp3\", -factor, \"media/audio/generated\", \"7high_restored.mp3\") \"\"\""
   ]
  },
  {
   "cell_type": "code",
   "execution_count": null,
   "metadata": {},
   "outputs": [],
   "source": []
  }
 ],
 "metadata": {
  "kernelspec": {
   "display_name": "Python 3 (ipykernel)",
   "language": "python",
   "name": "python3"
  },
  "language_info": {
   "codemirror_mode": {
    "name": "ipython",
    "version": 3
   },
   "file_extension": ".py",
   "mimetype": "text/x-python",
   "name": "python",
   "nbconvert_exporter": "python",
   "pygments_lexer": "ipython3",
   "version": "3.8.2"
  }
 },
 "nbformat": 4,
 "nbformat_minor": 4
}
