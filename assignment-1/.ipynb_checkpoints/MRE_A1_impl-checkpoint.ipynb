{
 "cells": [
  {
   "cell_type": "markdown",
   "metadata": {},
   "source": [
    "### Copyright-protected material, all rights reserved. (c) University of Vienna.\n",
    "_Copyright Notice of the corresponding course at Moodle applies. <br> Only to be used in the MRE course._"
   ]
  },
  {
   "cell_type": "markdown",
   "metadata": {},
   "source": [
    "# MRE Assignment 1 - Digital Image Processing\n",
    "\n",
    "In this assignment you will use Python (using Pillow or OpenCV) to load, transcode and store images. You will also use the libraries to extract some basic metadata from the images and store them in a data structure for easy access.\n",
    "\n",
    "In this notebook, you will implement your solution. This notebook will be imported into the \"*_def.ipynb\" notebook.\n",
    "\n",
    "Of course you can include code for testing your implementation in this implementation notebook, but code for testing and output generated for testing is not going to be assessed.\n",
    "\n",
    "Of course, your code for the solutions in this notebook will be inspected and is subject to grading.\n"
   ]
  },
  {
   "cell_type": "markdown",
   "metadata": {},
   "source": [
    "## Setup\n",
    "\n",
    "For general installation instructions, please refer to the ressources given for all the assignments [in Moodle](https://moodle.univie.ac.at/course/view.php?id=260637#section-13).\n",
    "\n",
    "If the cell below executes without error, you can start the assignment!"
   ]
  },
  {
   "cell_type": "code",
   "execution_count": 3,
   "metadata": {},
   "outputs": [],
   "source": [
    "# -------- Imports --------\n",
    "# Please do not change the contents of this cell!\n",
    "\n",
    "# In case you work in a local environment on your own machine,\n",
    "# how to install the required packages:\n",
    "#   PIP:     pip install <name> / pip install --upgrade <name>\n",
    "#   CONDA:   conda install -c conda-forge <name>  /  conda install -c anaconda <name>\n",
    "\n",
    "\n",
    "# Imports required by us.\n",
    "import cv2                             # opencv-python\n",
    "from PIL import Image                  # pillow\n",
    "from PIL.ExifTags import TAGS\n",
    "from matplotlib import pyplot as plt   # matplotlib\n",
    "from sklearn.metrics.pairwise import cosine_similarity  # scikit-learn\n",
    "import numpy as np                     # numpy\n",
    "import pandas as pd                    # pandas\n",
    "from IPython.display import display    # packaged with python\n",
    "\n",
    "# This directive will allow matplotlib to render interactive plots in the notebook.\n",
    "%matplotlib widget"
   ]
  },
  {
   "cell_type": "markdown",
   "metadata": {},
   "source": [
    "In the cells below, place your own imports, global variables, (helper) functions and classes. Feel free to add cells here as you see fit."
   ]
  },
  {
   "cell_type": "code",
   "execution_count": 207,
   "metadata": {},
   "outputs": [],
   "source": [
    "# Please place your own imports here.\n",
    "from PIL import ImageFilter, PyAccess, ImageDraw"
   ]
  },
  {
   "cell_type": "code",
   "execution_count": null,
   "metadata": {},
   "outputs": [],
   "source": [
    "# Place any helper functions, global variables and classes here."
   ]
  },
  {
   "cell_type": "markdown",
   "metadata": {},
   "source": [
    "## Task 1.1: Image formats transformation and adding filters\n"
   ]
  },
  {
   "cell_type": "code",
   "execution_count": 14,
   "metadata": {},
   "outputs": [
    {
     "ename": "SyntaxError",
     "evalue": "unexpected character after line continuation character (1707684414.py, line 8)",
     "output_type": "error",
     "traceback": [
      "\u001b[1;36m  Cell \u001b[1;32mIn[14], line 8\u001b[1;36m\u001b[0m\n\u001b[1;33m    \\ \\ \\ \\ .save(f'{outputDir}/{origName}-{quality}.jpg', 'JPEG', quality=int(quality*100))\u001b[0m\n\u001b[1;37m                                                                                            ^\u001b[0m\n\u001b[1;31mSyntaxError\u001b[0m\u001b[1;31m:\u001b[0m unexpected character after line continuation character\n"
     ]
    }
   ],
   "source": [
    "# Write your function here.\n",
    "\n",
    "# Transcodes images to JPEG format of adjustable quality (for JPEG).\n",
    "def JPEGImageConverter(inputImg: str, outputDir: str, quality: float = 1.0) -> None:\n",
    "    origName = inputImg.split(\"/\")[-1].split(\".\")[0]\n",
    "    Image.open(inputImg).convert('RGB').save(f'{outputDir}/{origName}-{quality}.jpg', 'JPEG', quality=int(quality*100))\n",
    "    print(f'Image saved at {outputDir}/{origName}-{quality}.jpg')"
   ]
  },
  {
   "cell_type": "code",
   "execution_count": 13,
   "metadata": {},
   "outputs": [
    {
     "name": "stdout",
     "output_type": "stream",
     "text": [
      "Image saved at ./b1murene-0.4.jpg\n"
     ]
    }
   ],
   "source": [
    "# Test your function here.\n",
    "#JPEGImageConverter(\"images/b1murene.gif\", \".\", 0.4)"
   ]
  },
  {
   "cell_type": "code",
   "execution_count": 23,
   "metadata": {},
   "outputs": [],
   "source": [
    "# Add Blur filter\n",
    "def BlurImage(inputImg: str) -> None:\n",
    "    origName = inputImg.split(\"/\")[-1].split(\".\")[0]\n",
    "    Image.open(inputImg).convert('RGB').filter(ImageFilter.BLUR).save(f'{origName}-blur.jpg')\n",
    "    print(f'Image saved at {origName}-blur.jpg')\n",
    "    pass"
   ]
  },
  {
   "cell_type": "code",
   "execution_count": 24,
   "metadata": {},
   "outputs": [
    {
     "name": "stdout",
     "output_type": "stream",
     "text": [
      "Image saved at b1murene-blur.jpg\n"
     ]
    }
   ],
   "source": [
    "# Test your function here.\n",
    "#BlurImage(\"images/b1murene.gif\")"
   ]
  },
  {
   "cell_type": "markdown",
   "metadata": {},
   "source": [
    "## Task 1.2:  Extract / Get Image Metadata"
   ]
  },
  {
   "cell_type": "code",
   "execution_count": 142,
   "metadata": {},
   "outputs": [],
   "source": [
    "# Write your function here. \n",
    "\n",
    "# Extracts metadata from an image and places them into a Pandas DataFrame.\n",
    "def ImageMetadataGenerator(inputImage: str) -> pd.DataFrame:\n",
    "    img: Image.Image = Image.open(inputImage)\n",
    "    return pd.DataFrame(\n",
    "        data={\n",
    "            \"width\":[img.width], \n",
    "            \"height\":[img.height],\n",
    "            \"components\":[len(img.convert(\"RGB\").filter(ImageFilter.FIND_EDGES).split())],\n",
    "            \"channels\":[len(img.mode)],\n",
    "            \"bits\": len(img.getbands()) * 8,\n",
    "            \"colorSpaceType\": \"\".join(img.getbands())\n",
    "        }\n",
    "    )"
   ]
  },
  {
   "cell_type": "code",
   "execution_count": 152,
   "metadata": {},
   "outputs": [
    {
     "data": {
      "text/html": [
       "<div>\n",
       "<style scoped>\n",
       "    .dataframe tbody tr th:only-of-type {\n",
       "        vertical-align: middle;\n",
       "    }\n",
       "\n",
       "    .dataframe tbody tr th {\n",
       "        vertical-align: top;\n",
       "    }\n",
       "\n",
       "    .dataframe thead th {\n",
       "        text-align: right;\n",
       "    }\n",
       "</style>\n",
       "<table border=\"1\" class=\"dataframe\">\n",
       "  <thead>\n",
       "    <tr style=\"text-align: right;\">\n",
       "      <th></th>\n",
       "      <th>width</th>\n",
       "      <th>height</th>\n",
       "      <th>components</th>\n",
       "      <th>channels</th>\n",
       "      <th>bits</th>\n",
       "      <th>colorSpaceType</th>\n",
       "    </tr>\n",
       "  </thead>\n",
       "  <tbody>\n",
       "    <tr>\n",
       "      <th>0</th>\n",
       "      <td>1862</td>\n",
       "      <td>1241</td>\n",
       "      <td>3</td>\n",
       "      <td>3</td>\n",
       "      <td>24</td>\n",
       "      <td>RGB</td>\n",
       "    </tr>\n",
       "    <tr>\n",
       "      <th>0</th>\n",
       "      <td>500</td>\n",
       "      <td>333</td>\n",
       "      <td>3</td>\n",
       "      <td>1</td>\n",
       "      <td>8</td>\n",
       "      <td>P</td>\n",
       "    </tr>\n",
       "  </tbody>\n",
       "</table>\n",
       "</div>"
      ],
      "text/plain": [
       "   width  height  components  channels  bits colorSpaceType\n",
       "0   1862    1241           3         3    24            RGB\n",
       "0    500     333           3         1     8              P"
      ]
     },
     "execution_count": 152,
     "metadata": {},
     "output_type": "execute_result"
    }
   ],
   "source": [
    "# Test your function here.\n",
    "#pd.concat([\n",
    "#    ImageMetadataGenerator(\"images/b1murene.jpg\"),\n",
    "#    ImageMetadataGenerator(\"images/b1murene.gif\")\n",
    "#])"
   ]
  },
  {
   "cell_type": "markdown",
   "metadata": {},
   "source": [
    "## Task 1.3: Drawing circles around objects in an image"
   ]
  },
  {
   "cell_type": "code",
   "execution_count": 130,
   "metadata": {},
   "outputs": [],
   "source": [
    "# Write your function here. \n",
    "\n",
    "# Identifies shapes in an images and draws circles around them.\n",
    "def IdentifyObjects(inputImage: str) -> None:\n",
    "    \n",
    "    original = cv2.imread(inputImage)\n",
    "    image = cv2.GaussianBlur(cv2.cvtColor(original, cv2.COLOR_BGR2GRAY),(3,3),0); #Remove unneccesary details\n",
    "    image = cv2.Canny(image, 165, 255) # Only need edges, thresholding could replace this line\n",
    "    \n",
    "    ############## https://www.geeksforgeeks.org/how-to-detect-shapes-in-images-in-python-using-opencv/ ##############\n",
    "    \n",
    "    contours, _ = cv2.findContours(image, cv2.RETR_TREE, cv2.CHAIN_APPROX_SIMPLE)\n",
    "    \n",
    "    # here we are ignoring first counter because  \n",
    "    # findcontour function detects whole image as shape \n",
    "    for contour in contours[1:]: \n",
    "        \n",
    "        # cv2.approxPloyDP() function to approximate the shape \n",
    "        approx = cv2.approxPolyDP(contour, 0.01 * cv2.arcLength(contour, True), True) \n",
    "\n",
    "        ############## Personal adaptation ##############\n",
    "\n",
    "        if len(approx) < 10: #Remove false shapes\n",
    "            continue\n",
    "\n",
    "        ############## https://docs.opencv.org/4.x/dd/d49/tutorial_py_contour_features.html ##############\n",
    "        \n",
    "        (x,y),radius = cv2.minEnclosingCircle(contour)\n",
    "        center = (int(x),int(y))\n",
    "        radius = int(radius)\n",
    "        cv2.circle(original,center,radius,(0,10*len(approx),0),2)\n",
    "\n",
    "        ############## End of extract ##############\n",
    "    cv2.imshow(\"\",original)\n",
    "    cv2.waitKey()"
   ]
  },
  {
   "cell_type": "code",
   "execution_count": 131,
   "metadata": {},
   "outputs": [],
   "source": [
    "# Test your function here.\n",
    "#IdentifyObjects(\"images/Task1.3/partyballoons-1.jpg\")\n",
    "#IdentifyObjects(\"images/Task1.3/partyballoons-2.jpg\")"
   ]
  },
  {
   "cell_type": "markdown",
   "metadata": {},
   "source": [
    "## Task 1.4: Duplicate image finder using cosine similarity"
   ]
  },
  {
   "cell_type": "code",
   "execution_count": 229,
   "metadata": {},
   "outputs": [],
   "source": [
    "# Calculates a histogram for one image.\n",
    "def ImageHistogramGenerator(inputImage: str, show=True, forceRGB=False) -> np.array:\n",
    "    image = Image.open(inputImage)\n",
    "    if forceRGB:\n",
    "        image = image.convert('RGB')\n",
    "    pixelData :PyAccess = image.load()\n",
    "    width, height = image.size\n",
    "    #If only one channel {intensity : count}\n",
    "    if isinstance(pixelData[0,0], int):\n",
    "        colors = [{}]\n",
    "        for j in range(256):\n",
    "                colors[0][j]=0\n",
    "        for i in range(0, width):\n",
    "            for j in range(0, height): #10\n",
    "                colors[0][pixelData[i, j]] += 1\n",
    "    else: #More than one channel [channel : { intensity : count } ]\n",
    "        colors = []\n",
    "        channels = len(image.getbands())\n",
    "        for i in range(channels):\n",
    "            colors.append({})\n",
    "            for j in range(256):\n",
    "                colors[i][j]=0\n",
    "        for i in range(0, width): #20\n",
    "            for j in range(0, height):\n",
    "                for k in range(channels):\n",
    "                    colors[k][pixelData[i, j][k]] += 1\n",
    "    if(show):\n",
    "        DrawHistogram(image, colors)\n",
    "    \n",
    "    return np.array([list(v.values()) for v in colors])\n",
    "    #30\n",
    "def DrawHistogram(image: Image.Image, histogram) ->None:\n",
    "    maxValue = 0\n",
    "    for i in range(len(histogram)):\n",
    "        for j in range(255):\n",
    "            maxValue = max(maxValue, histogram[i][j])\n",
    "    image = Image.new(\"\".join(image.getbands()), (530, maxValue + 10), color=\"white\")\n",
    "    draw = ImageDraw.Draw(image)\n",
    "    pixels = image.load()\n",
    "    for i in range(len(histogram)):\n",
    "        color = tuple([255 if x[0] == i else 0 for x in enumerate(range(len(histogram)))]) #Overcomplicated way to get the line colors for the histogram\n",
    "        for j in range(254):\n",
    "            draw.line([(j*2+5, maxValue - histogram[i][j]+5),(j*2+6, maxValue - histogram[i][j+1]+5)], fill=color, width=1) #It extracts them from maxValue as the [0,0] it's the top left corner\n",
    "    image = image.resize((1000, 1000))\n",
    "    image.show(\"\")"
   ]
  },
  {
   "cell_type": "code",
   "execution_count": 230,
   "metadata": {
    "scrolled": true
   },
   "outputs": [],
   "source": [
    "# Test your function here.\n",
    "#ImageHistogramGenerator(\"images/b1shell008.jpg\", True)"
   ]
  },
  {
   "cell_type": "code",
   "execution_count": 233,
   "metadata": {},
   "outputs": [],
   "source": [
    "# Find duplicate images and return their similarity scores in a dataframe.\n",
    "def FindDuplicateImages(inputDir1 : str, inputDir2: str, similarityThreshold: float = 1.0) -> pd.DataFrame:\n",
    "    \n",
    "    image1, image2 = (ImageHistogramGenerator(inputDir1, False, True).flatten(), ImageHistogramGenerator(inputDir2, False, True).flatten())\n",
    "    \n",
    "    image1, image2 = (image1/np.sum(image1), image2/np.sum(image2))\n",
    "    \n",
    "    cosineSimilarity = abs(np.dot(image1,image2)/(np.linalg.norm(image1) * np.linalg.norm(image2)))\n",
    "    \n",
    "    return pd.DataFrame(\n",
    "        data={\n",
    "            \"inputDir1\" : [inputDir1],\n",
    "            \"inputDir2\" : [inputDir2],\n",
    "            \"similarityThreshold\" : [similarityThreshold],\n",
    "            \"result\": [cosineSimilarity], \n",
    "            \"isSame\": [cosineSimilarity >= similarityThreshold]\n",
    "        }\n",
    "    )"
   ]
  },
  {
   "cell_type": "code",
   "execution_count": 234,
   "metadata": {},
   "outputs": [
    {
     "data": {
      "text/html": [
       "<div>\n",
       "<style scoped>\n",
       "    .dataframe tbody tr th:only-of-type {\n",
       "        vertical-align: middle;\n",
       "    }\n",
       "\n",
       "    .dataframe tbody tr th {\n",
       "        vertical-align: top;\n",
       "    }\n",
       "\n",
       "    .dataframe thead th {\n",
       "        text-align: right;\n",
       "    }\n",
       "</style>\n",
       "<table border=\"1\" class=\"dataframe\">\n",
       "  <thead>\n",
       "    <tr style=\"text-align: right;\">\n",
       "      <th></th>\n",
       "      <th>inputDir1</th>\n",
       "      <th>inputDir2</th>\n",
       "      <th>similarityThreshold</th>\n",
       "      <th>result</th>\n",
       "      <th>isSame</th>\n",
       "    </tr>\n",
       "  </thead>\n",
       "  <tbody>\n",
       "    <tr>\n",
       "      <th>0</th>\n",
       "      <td>images/b17maartent1427.jpg</td>\n",
       "      <td>images/b17maartent1427.jpg</td>\n",
       "      <td>0.7</td>\n",
       "      <td>1.000000</td>\n",
       "      <td>True</td>\n",
       "    </tr>\n",
       "    <tr>\n",
       "      <th>0</th>\n",
       "      <td>images/b17maartent1427.gif</td>\n",
       "      <td>images/b17maartent1427.gif</td>\n",
       "      <td>0.7</td>\n",
       "      <td>1.000000</td>\n",
       "      <td>True</td>\n",
       "    </tr>\n",
       "    <tr>\n",
       "      <th>0</th>\n",
       "      <td>images/b17maartent1427.gif</td>\n",
       "      <td>images/b17maartent1427.jpg</td>\n",
       "      <td>0.7</td>\n",
       "      <td>0.267831</td>\n",
       "      <td>False</td>\n",
       "    </tr>\n",
       "    <tr>\n",
       "      <th>0</th>\n",
       "      <td>images/b17barb026.jpg</td>\n",
       "      <td>images/b17barb026_dithered.gif</td>\n",
       "      <td>0.7</td>\n",
       "      <td>0.273144</td>\n",
       "      <td>False</td>\n",
       "    </tr>\n",
       "    <tr>\n",
       "      <th>0</th>\n",
       "      <td>images/b17barb026.jpg</td>\n",
       "      <td>images/b1murene.jpg</td>\n",
       "      <td>0.7</td>\n",
       "      <td>0.370309</td>\n",
       "      <td>False</td>\n",
       "    </tr>\n",
       "    <tr>\n",
       "      <th>0</th>\n",
       "      <td>images/T1.4/b1shell008.jpg</td>\n",
       "      <td>images/T1.4/b1shell008-1.jpg</td>\n",
       "      <td>0.7</td>\n",
       "      <td>0.999717</td>\n",
       "      <td>True</td>\n",
       "    </tr>\n",
       "    <tr>\n",
       "      <th>0</th>\n",
       "      <td>images/T1.4/jawa-2.1.jpg</td>\n",
       "      <td>images/T1.4/jawa-2.jpg</td>\n",
       "      <td>0.7</td>\n",
       "      <td>0.962974</td>\n",
       "      <td>True</td>\n",
       "    </tr>\n",
       "    <tr>\n",
       "      <th>0</th>\n",
       "      <td>images/T1.4/m-4.1.jpg</td>\n",
       "      <td>images/T1.4/m-4.jpg</td>\n",
       "      <td>0.7</td>\n",
       "      <td>0.998856</td>\n",
       "      <td>True</td>\n",
       "    </tr>\n",
       "  </tbody>\n",
       "</table>\n",
       "</div>"
      ],
      "text/plain": [
       "                    inputDir1                       inputDir2  \\\n",
       "0  images/b17maartent1427.jpg      images/b17maartent1427.jpg   \n",
       "0  images/b17maartent1427.gif      images/b17maartent1427.gif   \n",
       "0  images/b17maartent1427.gif      images/b17maartent1427.jpg   \n",
       "0       images/b17barb026.jpg  images/b17barb026_dithered.gif   \n",
       "0       images/b17barb026.jpg             images/b1murene.jpg   \n",
       "0  images/T1.4/b1shell008.jpg    images/T1.4/b1shell008-1.jpg   \n",
       "0    images/T1.4/jawa-2.1.jpg          images/T1.4/jawa-2.jpg   \n",
       "0       images/T1.4/m-4.1.jpg             images/T1.4/m-4.jpg   \n",
       "\n",
       "   similarityThreshold    result  isSame  \n",
       "0                  0.7  1.000000    True  \n",
       "0                  0.7  1.000000    True  \n",
       "0                  0.7  0.267831   False  \n",
       "0                  0.7  0.273144   False  \n",
       "0                  0.7  0.370309   False  \n",
       "0                  0.7  0.999717    True  \n",
       "0                  0.7  0.962974    True  \n",
       "0                  0.7  0.998856    True  "
      ]
     },
     "execution_count": 234,
     "metadata": {},
     "output_type": "execute_result"
    }
   ],
   "source": [
    "# Test your function here.\n",
    "\"\"\"pd.concat([\n",
    "    FindDuplicateImages(\"images/b17maartent1427.jpg\",\"images/b17maartent1427.jpg\", 0.7),\n",
    "    FindDuplicateImages(\"images/b17maartent1427.gif\",\"images/b17maartent1427.gif\", 0.7),\n",
    "    FindDuplicateImages(\"images/b17maartent1427.gif\",\"images/b17maartent1427.jpg\", 0.7),\n",
    "    FindDuplicateImages(\"images/b17barb026.jpg\",\"images/b17barb026_dithered.gif\", 0.7),\n",
    "    FindDuplicateImages(\"images/b17barb026.jpg\",\"images/b1murene.jpg\", 0.7),\n",
    "    FindDuplicateImages(\"images/T1.4/b1shell008.jpg\",\"images/T1.4/b1shell008-1.jpg\", 0.7),\n",
    "    FindDuplicateImages(\"images/T1.4/jawa-2.1.jpg\",\"images/T1.4/jawa-2.jpg\", 0.7),\n",
    "    FindDuplicateImages(\"images/T1.4/m-4.1.jpg\",\"images/T1.4/m-4.jpg\", 0.7),\n",
    "])\"\"\""
   ]
  },
  {
   "cell_type": "code",
   "execution_count": null,
   "metadata": {},
   "outputs": [],
   "source": []
  }
 ],
 "metadata": {
  "kernelspec": {
   "display_name": "Python 3 (ipykernel)",
   "language": "python",
   "name": "python3"
  },
  "language_info": {
   "codemirror_mode": {
    "name": "ipython",
    "version": 3
   },
   "file_extension": ".py",
   "mimetype": "text/x-python",
   "name": "python",
   "nbconvert_exporter": "python",
   "pygments_lexer": "ipython3",
   "version": "3.8.2"
  }
 },
 "nbformat": 4,
 "nbformat_minor": 4
}
