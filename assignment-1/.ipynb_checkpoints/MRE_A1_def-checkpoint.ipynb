{
 "cells": [
  {
   "cell_type": "markdown",
   "metadata": {},
   "source": [
    "### Copyright-protected material, all rights reserved. (c) University of Vienna.\n",
    "_Copyright Notice of the corresponding course at Moodle applies. <br> Only to be used in the MRE course._"
   ]
  },
  {
   "cell_type": "markdown",
   "metadata": {},
   "source": [
    "# MRE Assignment 1 - Digital Image Processing\n",
    "\n",
    "In this assignment you will use Python (using Pillow or OpenCV) to load, transcode and store images. You will also use the libraries to extract some basic metadata from the images and store them in a data structure for easy access.\n",
    "\n",
    "In this notebook, you find the detailed specification. For assessment of your solution you are expected to demonstrate your implementation and answer questions in mostly textual form here.\n",
    "\n",
    "❗ **Note:** Please make sure that all potential errors, including handling files, paths, and run-time errors are handled properly (e.g., useful error messages to users)."
   ]
  },
  {
   "cell_type": "markdown",
   "metadata": {},
   "source": [
    "## Import your implementation\n",
    "\n",
    "Import the corresponding Jupyter Notebook named \"*_impl.ipynb\" for this assignment here."
   ]
  },
  {
   "cell_type": "code",
   "execution_count": 23,
   "metadata": {},
   "outputs": [],
   "source": [
    "%%capture\n",
    "%run MRE_A1_impl.ipynb"
   ]
  },
  {
   "cell_type": "markdown",
   "metadata": {},
   "source": [
    "## Task 1.1: Image formats transformation and adding filters- 20 pts.\n",
    "\n",
    "a. Write a Python function `JPEGImageConverter` that accepts 3 parameters: an input file or directory, and output directory name, and an optional quality parameter. If the optional quality parameter is not provided, it defaults to 100% (1.0), i.e., full quality. \n",
    "\n",
    "The function should be able to: \n",
    "* Read the input image(s).\n",
    "* Convert the input image(s) to the JPEG file format.\n",
    "* Store the converted image(s) to the output directory.\n",
    "  * For BMP and PNG files it is ok to use the default image writer provided by the Python framework.\n",
    "  * For JPEG a configurable writer has to be used which requires the quality parameter.\n",
    "  \n",
    "The output filename should conform to the following structure: <br>\n",
    "  `<original name>-<quality>.jpeg`\n",
    "<br>\n",
    "  \n",
    "**Examples:** <br>\n",
    "input: `image1.gif` <br>\n",
    "output: `image1.gif.jpg` <br>\n",
    "output: `image1.gif-0.5.jpg`<br>\n",
    "Function call: `JPEGImageConverter(\"image1.jpg\", \"./output_dir\", 0.75)`\n",
    "\n",
    "\n",
    "\n",
    "* Test your function with the files in the media directory.\n",
    "* Test your function with your own images.\n",
    "* Use your function to convert the provided test images (please **choose 4 images** for comparison):\n",
    "  * Convert them to the following formats: JPEG (quality: 0), JPEG (quality: 0.5), JPEG (quality: 1.0).\n",
    "  * Compare the file sizes of the original and the created files.\n",
    "  * Compare the quality of the resulting images manually (use \"GOOD\", \"MEDIUM\", \"BAD\" for your subjective assessment).\n",
    "  \n",
    "b. Write a Python function `BlurImage` that accepts 1 parameter; an input file name. The function should add a blur filter to the input image and store the resulting blurred image in an output directory.\n",
    "\n",
    "**Examples:** <br>\n",
    "input: `image1.gif` <br>\n",
    "Function call: `BlurImage(\"image1.jpg\")`\n"
   ]
  },
  {
   "cell_type": "markdown",
   "metadata": {},
   "source": [
    "### Demonstrate your implementation:"
   ]
  },
  {
   "cell_type": "code",
   "execution_count": 24,
   "metadata": {},
   "outputs": [
    {
     "name": "stdout",
     "output_type": "stream",
     "text": [
      "Image saved at results/b1murene-0.4.jpg\n",
      "Image saved at results/b1murene-1.jpg\n",
      "Image saved at b1murene-blur.jpg\n"
     ]
    }
   ],
   "source": [
    "# Demonstrate your implementation here. \n",
    "# Only enter the calls to your functions here so you can demonstrate validity of your solution.\n",
    "JPEGImageConverter(\"images/b1murene.jpg\", \"results\", 0.4)\n",
    "JPEGImageConverter(\"images/b1murene.jpg\", \"results\", 1)\n",
    "BlurImage(\"images/b1murene.gif\")"
   ]
  },
  {
   "cell_type": "markdown",
   "metadata": {},
   "source": [
    "### Additionally, answer the following questions in written form:\n",
    "\n",
    "**1. Did the file sizes increase or decrease when you used different formats and why?**\n",
    "\n",
    "It has increased with the 1 quality and decreased with the 0.4 because the original compression was in a point between those two, and recompressing with higher quality added lots of new data that wasn't originally there, making the 1 quality almost 4 times heavier than the original\n",
    "\n",
    "**2. What is the difference between lossy and lossless image formats?**\n",
    "\n",
    "Lossy implies the lose of non recoverable data when compressing (for example, deleting the 2 last bits of each byte of the image) and lossless means that the image before compressing and after decompressing are the exact same\n",
    "\n",
    "**3. Explain the individual processing steps of the JPEG method following a complete process scheme as introduced in the course.**\n",
    "\n",
    "Acording to <a href=\"https://www.geeksforgeeks.org/process-of-jpeg-data-compression/\">geeksforgeeks.org</a> it consists of 7 steps:\n",
    "        \n",
    "1. Split the image into segments of 64 pixels, 8 in each axis.\n",
    "2. The colors are replaced from RGB to YCbCr and remove the least chromatic colors. (This step can be done before the first one as shown in <a href=\"https://www.baeldung.com/cs/jpeg-compression\">baeldung.com</a>)\n",
    "3. Apply Discrete Cosine Transformation to each segment to measure the contribution of different frequency components in each block.\n",
    "4. The data it's quantized.\n",
    "5. Serialization using the zig-zag scanning pattern to exploit redundancy.\n",
    "6. Differential Pulse Code Modeling it's applied to define the strength of colors.\n",
    "7. It gets encoded using Huffman's encoding\n",
    "    \n",
    "**4. Considering your implementation of the `BlurImage` function, which paramaters can you add to extend the signature of your function?**\n",
    "\n",
    "In my case none, but if I would use a Gaussian blur I could add the size of the kernels as parameter to define the strenght of the blur"
   ]
  },
  {
   "cell_type": "markdown",
   "metadata": {},
   "source": [
    "## Task 1.2:  Extract / Get Image Metadata - 20 pts.\n",
    "\n",
    "Write a Python function `ImageMetadataGenerator` which can store the following extracted metadata in a Python pandas DataFrame. The function can be called with a single parameter: either the name of an input image or the name of a directory in which various input images to be considered can be found. You can use Pillow or OpenCV to complete this task.\n",
    "\n",
    "The function can store the following metadata: \n",
    "- width (integer)\n",
    "- height (integer)\n",
    "- number of image components (integer)\n",
    "- number of channel (integer)\n",
    "- bits per pixel (integer)\n",
    "- colorSpaceType (integer)\n",
    "- additional tags of your choice (max 4 tags).\n",
    "\n",
    "**Please note:** Sometimes you have to combine other image features to calculate a certain meta-information, for example: extracting the color space or the number of channels might help to calculate bitsPerPixel or image components. bitsPerPixel is the number of bits used to represent the color information for a pixel.\n",
    "\n",
    "**Example:** <br>\n",
    "Function call:  `ImageMetadataGenerator(\"image1.jpg\")`"
   ]
  },
  {
   "cell_type": "markdown",
   "metadata": {},
   "source": [
    "### Demonstrate your Implementation:"
   ]
  },
  {
   "cell_type": "code",
   "execution_count": null,
   "metadata": {},
   "outputs": [],
   "source": [
    "# Demonstrate your implementation here.\n",
    "# Only enter the calls to your functions here so you can demonstrate validity of your solution.\n",
    "pd.concat([\n",
    "    ImageMetadataGenerator(\"images/b1murene.jpg\"),\n",
    "    ImageMetadataGenerator(\"images/b1murene.gif\")\n",
    "])"
   ]
  },
  {
   "cell_type": "markdown",
   "metadata": {},
   "source": [
    "## Task 1.3: Drawing circles arund objects in an image - 20 pts\n",
    "\n",
    "a. Write a Python function `IdentifyObjects` to be called with 1 parameter; an input file. It identifies the objects or shapes in the image and draws a circle around the identified shapes.\n",
    "\n",
    "**Example:** <br>\n",
    "Input: `partyballoons-1.jpg` <br>\n",
    "Function Call: `IdentifyObjects(\"partyballoons-1.jpg\")`\n"
   ]
  },
  {
   "cell_type": "markdown",
   "metadata": {},
   "source": [
    "b. Test your function using the image `partyballoons-2.jpg` and explain the outcome.\n",
    "\n",
    "💡 **TIP**: Use the provided images in the directory \"Task1.3\" to demonstrate your solution."
   ]
  },
  {
   "cell_type": "markdown",
   "metadata": {},
   "source": [
    "### Demonstrate your Implementation:"
   ]
  },
  {
   "cell_type": "code",
   "execution_count": null,
   "metadata": {},
   "outputs": [],
   "source": [
    "# Demonstrate your implementation here.\n",
    "# Only enter the calls to your functions here so you can demonstrate validity of your solution.\n",
    "IdentifyObjects(\"images/Task1.3/partyballoons-1.jpg\")\n",
    "IdentifyObjects(\"images/Task1.3/partyballoons-2.jpg\") #Extra circles come from the strings for some reason grabbing points from the circle"
   ]
  },
  {
   "cell_type": "markdown",
   "metadata": {},
   "source": [
    "## Task 1.4: Duplicate image finder using cosine similarity - 40 pts.\n",
    "\n",
    "a. Write a Python function `ImageHistogramGenerator` to be called with 1 parameter; an input file. It returns the object that represents the calculated histogram.\n",
    "\n",
    "**Example:** <br>\n",
    "Input: `image1.jpg` <br>\n",
    "Function Call: `ImageHistogramGenerator(\"image1.jpg\")`\n",
    "\n",
    "💡 **TIP**: You may plot your histogram using `matplotlib` to check if it looks correct. However, please be sure to comment out / disable your plots when calling the following `FindDuplicateImages` function, since they may cause memory issues on the JupyterLab.\n",
    "\n",
    "\n",
    "b. Write a Python function `FindDuplicateImages` that can be called with three parameters:\n",
    "- `inputDir1`: the path to the first directory, which contains all the images.\n",
    "- `inputDir2`: the path to the second directory, which contains a subset of the images.\n",
    "- `similarityThreshold`: a threshold parameter, which ranges between 0.0 to 1.0.\n",
    "\n",
    "The algorithm:\n",
    "- Generate the histograms for all images in the input directory 1 and input directory 2.\n",
    "- Calculate the cosine distance between the histogram of the images in the input directory 2 and all other images in the input directory 1.\n",
    "\n",
    "- Generate a pandas DataFrame and display it for visualization of the comparison results. The DataFrame should consist of the following three columns:\n",
    "\n",
    "  - `inputDir1`: displays the image name in the directory.\n",
    "  - `inputDir2`: displays the image name in the directory.\n",
    "  - `similarityThreshold`: displays the similarity (0.0 - 1.0)\n",
    "\n",
    "**Example:**<br>\n",
    "Function call: `FindDuplicateImages(\"inputDir1\", \"inputDir2\",\"similarityThreshold\")` <br>\n",
    "\n",
    "\n",
    "💡 **TIP**: To keep the memory footprint and runtime of your solution low, consider limiting the amount of files in the `inputDir2`."
   ]
  },
  {
   "cell_type": "markdown",
   "metadata": {},
   "source": [
    "### Additionally, answer the following questions in written form:\n",
    "\n",
    "**1. Can the created histogram be used to reconstruct the image? If no, what other information would be needed?**\n",
    "\n",
    "No, you would need the relation between the histogram values (Which R goes with which G and which blue= and the position where each counted pixel was. An image that has a green pixel and then a red one has the same histogram as another where the red pixel goes first and another that has a black pixel and a yellow one\n",
    "\n",
    "**2. Explain the differences between an individual color histogram, a combined color histogram and an intensity histogram.** <br>\n",
    "&emsp; **a) What information is displayed in each of these diagrams?** <br>\n",
    "\n",
    "The individual color histogram it's the histogram that focuses on just one of the channels when there are more, the combined grabs all channels and makes a line for each one of them and the intensity histogram it's the same as the two before but for monochromatic images\n",
    "\n",
    "&emsp; **b) What histogram type did we use?** <br>\n",
    "\n",
    "Combined color histogram\n",
    "\n",
    "**3. Explain the concept of histogram bins.**\n",
    "\n",
    "A histogram bin it's the result of the joint of the intensity of one channel in the x axis with the sumatory of times it appears in the processed image in the y axis"
   ]
  },
  {
   "cell_type": "markdown",
   "metadata": {},
   "source": [
    "### Demonstrate your Implementation:"
   ]
  },
  {
   "cell_type": "code",
   "execution_count": null,
   "metadata": {},
   "outputs": [],
   "source": [
    "# Demonstrate your implementation here. \n",
    "# Only enter the calls to your functions here so you can demonstrate validity of your solution.\n",
    "ImageHistogramGenerator(\"images/b1shell008.jpg\")"
   ]
  },
  {
   "cell_type": "code",
   "execution_count": null,
   "metadata": {},
   "outputs": [],
   "source": [
    "pd.concat([\n",
    "    FindDuplicateImages(\"images/b17maartent1427.jpg\",\"images/b17maartent1427.jpg\", 0.7),\n",
    "    FindDuplicateImages(\"images/b17maartent1427.gif\",\"images/b17maartent1427.gif\", 0.7),\n",
    "    FindDuplicateImages(\"images/b17maartent1427.gif\",\"images/b17maartent1427.jpg\", 0.7),\n",
    "    FindDuplicateImages(\"images/b17barb026.jpg\",\"images/b17barb026_dithered.gif\", 0.7),\n",
    "    FindDuplicateImages(\"images/b17barb026.jpg\",\"images/b1murene.jpg\", 0.7),\n",
    "    FindDuplicateImages(\"images/T1.4/b1shell008.jpg\",\"images/T1.4/b1shell008-1.jpg\", 0.7),\n",
    "    FindDuplicateImages(\"images/T1.4/jawa-2.1.jpg\",\"images/T1.4/jawa-2.jpg\", 0.7),\n",
    "    FindDuplicateImages(\"images/T1.4/m-4.1.jpg\",\"images/T1.4/m-4.jpg\", 0.7),\n",
    "])"
   ]
  }
 ],
 "metadata": {
  "kernelspec": {
   "display_name": "Python 3 (ipykernel)",
   "language": "python",
   "name": "python3"
  },
  "language_info": {
   "codemirror_mode": {
    "name": "ipython",
    "version": 3
   },
   "file_extension": ".py",
   "mimetype": "text/x-python",
   "name": "python",
   "nbconvert_exporter": "python",
   "pygments_lexer": "ipython3",
   "version": "3.8.2"
  }
 },
 "nbformat": 4,
 "nbformat_minor": 4
}
