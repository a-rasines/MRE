{
 "cells": [
  {
   "cell_type": "markdown",
   "metadata": {},
   "source": [
    "### Copyright-protected material, all rights reserved. (c) University of Vienna.\n",
    "_Copyright Notice of the corresponding course at Moodle applies. <br> Only to be used in the MRE course._"
   ]
  },
  {
   "cell_type": "markdown",
   "metadata": {},
   "source": [
    "# MRE Assignment 0 - Primer\n",
    "\n",
    "This assignment serves as a primer for your assignments to be developed. In a sequence of tasks, you will learn... \n",
    "\n",
    "- how to install required dependencies for your Jupyter Notebook \n",
    "- how to write a simple Python function\n",
    "- how to import other notebooks into a notebook, which is important to work with the `*_def.ipynb` and `*_impl.ipynb` files.\n",
    "- use a Markdown cell in a notebook\n",
    "- how to submit your solution to GitLab at <https://git01lab.cs.univie.ac.at>\n",
    "- how to upload your notebook to JupyterLab at <https://jupyterlab.cs.univie.ac.at> for testing the final solution \n",
    "- how to generate your own requirements.txt file that is needed for final submission\n",
    "\n",
    "Please note, the points in this primer are not assigned to your course record - it is just for illustration.\n"
   ]
  },
  {
   "cell_type": "markdown",
   "metadata": {},
   "source": [
    "## Task 1 - Installing Python Packages - 20 pts\n",
    "\n",
    "Here some hints on installing dependencies in Python: \n",
    "- run `pip install -r requirements_a0.txt` <br>\n",
    "to make available all the packages specified in the `requirements_a0.txt` file. <br>\n",
    "❗ **Please note**: Only use pip for installing/maintaining dependencies. Do not use conda for installing/maintaining dependencies.  <br>\n",
    "\n",
    "\n",
    "- run the cell below successfully, if the packages needed are available :-)\n"
   ]
  },
  {
   "cell_type": "code",
   "execution_count": 1,
   "metadata": {},
   "outputs": [
    {
     "data": {
      "text/html": [
       "<div>\n",
       "<style scoped>\n",
       "    .dataframe tbody tr th:only-of-type {\n",
       "        vertical-align: middle;\n",
       "    }\n",
       "\n",
       "    .dataframe tbody tr th {\n",
       "        vertical-align: top;\n",
       "    }\n",
       "\n",
       "    .dataframe thead th {\n",
       "        text-align: right;\n",
       "    }\n",
       "</style>\n",
       "<table border=\"1\" class=\"dataframe\">\n",
       "  <thead>\n",
       "    <tr style=\"text-align: right;\">\n",
       "      <th></th>\n",
       "      <th>country</th>\n",
       "      <th>capital</th>\n",
       "    </tr>\n",
       "  </thead>\n",
       "  <tbody>\n",
       "    <tr>\n",
       "      <th>0</th>\n",
       "      <td>Austria</td>\n",
       "      <td>Vienna</td>\n",
       "    </tr>\n",
       "    <tr>\n",
       "      <th>1</th>\n",
       "      <td>Germany</td>\n",
       "      <td>Berlin</td>\n",
       "    </tr>\n",
       "  </tbody>\n",
       "</table>\n",
       "</div>"
      ],
      "text/plain": [
       "   country capital\n",
       "0  Austria  Vienna\n",
       "1  Germany  Berlin"
      ]
     },
     "metadata": {},
     "output_type": "display_data"
    }
   ],
   "source": [
    "import pandas as pd \n",
    "\n",
    "df = pd.DataFrame(columns=[\"country\", \"capital\"])\n",
    "df.loc[0] = [\"Austria\", \"Vienna\"]\n",
    "df.loc[1] = [\"Germany\", \"Berlin\"]\n",
    "\n",
    "display(df)"
   ]
  },
  {
   "cell_type": "markdown",
   "metadata": {},
   "source": [
    "## Task 2 - Writing a Function in Python - 40 pts\n",
    "\n",
    "Write a function called `add` that takes as input two numbers and returns their sum. Then, call that function with sample numbers and print the output."
   ]
  },
  {
   "cell_type": "code",
   "execution_count": 2,
   "metadata": {},
   "outputs": [],
   "source": [
    "%%capture\n",
    "%run MRE_A0_impl.ipynb"
   ]
  },
  {
   "cell_type": "code",
   "execution_count": 3,
   "metadata": {},
   "outputs": [
    {
     "name": "stdout",
     "output_type": "stream",
     "text": [
      "3\n"
     ]
    }
   ],
   "source": [
    "# Test your function here.\n",
    "result = add(1,2)\n",
    "print(result)"
   ]
  },
  {
   "cell_type": "markdown",
   "metadata": {},
   "source": [
    "Sometimes, you will be asked to answer questions within the notebook. In this cell, please answer the following question: \n",
    "\n",
    "**Question:** What is $2 + 5$? <br>\n",
    "\n"
   ]
  },
  {
   "cell_type": "markdown",
   "metadata": {},
   "source": [
    "**Answer:** <br>\n",
    "Your answer is to be placed here as a [Markdown cell](https://jupyter-notebook.readthedocs.io/en/stable/examples/Notebook/Working%20With%20Markdown%20Cells.html).<br>\n",
    "You may use Markdown to, e.g., display an image, or make use of a [LaTeX-style formula](https://jupyter-notebook.readthedocs.io/en/stable/examples/Notebook/Typesetting%20Equations.html), e.g., $a^2+b^2=c^2$\n"
   ]
  },
  {
   "cell_type": "markdown",
   "metadata": {},
   "source": [
    "## Task 3 - Commit the Code to GitLab - 20 pts\n",
    "\n",
    "Please find detailed instructions to work with GitLab in the tutorial (available on Moodle)."
   ]
  },
  {
   "cell_type": "markdown",
   "metadata": {},
   "source": [
    "## Task 4 - Upload this Notebook to JupyterLab - 10 pts\n",
    "\n",
    "Please find detailed instructions on how to upload the notebook to Jupyter Lab in the tutorial (available on Moodle)."
   ]
  },
  {
   "cell_type": "markdown",
   "metadata": {},
   "source": [
    "## Task 5 - Generate a requirements file - 10 pts \n",
    "\n",
    "While on the JupyterLab, generate a requirements file which includes all the packages you used for your solution. Then, commit your code changes to git. \n",
    "\n",
    "💡 **Note**: We recommend generating your requirements file on the JupyterLab system (unless you work with an equivalent virtual environment).\n",
    "Your pip freeze would otherwise contain all packages installed on your local machine - including some packages unrelated to the assignment - instead of just the settings for the target system. \n",
    "\n",
    "\n",
    "💡 **Please note**:\n",
    "\n",
    "`requirements_A#.txt`  with `#=1, 2, 3`  includes the initial requirements that may be given to you to start working on the assignment.\n",
    "\n",
    "`requirements.txt` includes the final requirements with your entire list of packages that you have choosen to solve the assignment.\n"
   ]
  },
  {
   "cell_type": "markdown",
   "metadata": {},
   "source": [
    "You can generate the file using the `pip freeze` command in a terminal or\n",
    "use the provided code cell below.\n"
   ]
  },
  {
   "cell_type": "code",
   "execution_count": 1,
   "metadata": {},
   "outputs": [],
   "source": [
    "!pip freeze > requirements.txt"
   ]
  },
  {
   "cell_type": "markdown",
   "metadata": {},
   "source": [
    "## Good luck with your assignments! "
   ]
  }
 ],
 "metadata": {
  "kernelspec": {
   "display_name": "Python 3 (ipykernel)",
   "language": "python",
   "name": "python3"
  },
  "language_info": {
   "codemirror_mode": {
    "name": "ipython",
    "version": 3
   },
   "file_extension": ".py",
   "mimetype": "text/x-python",
   "name": "python",
   "nbconvert_exporter": "python",
   "pygments_lexer": "ipython3",
   "version": "3.8.2"
  }
 },
 "nbformat": 4,
 "nbformat_minor": 4
}
